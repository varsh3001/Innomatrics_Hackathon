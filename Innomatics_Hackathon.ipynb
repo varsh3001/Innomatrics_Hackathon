{
 "cells": [
  {
   "cell_type": "markdown",
   "id": "c6ae4461",
   "metadata": {},
   "source": [
    "# What is the shape of \"movies.csv\"?\n"
   ]
  },
  {
   "cell_type": "code",
   "execution_count": 22,
   "id": "bed29828",
   "metadata": {},
   "outputs": [
    {
     "name": "stdout",
     "output_type": "stream",
     "text": [
      "The shape of movies.csv is  (9742, 3)\n"
     ]
    }
   ],
   "source": [
    "import pandas as pd\n",
    "file_path=\"C://Users//varsh//OneDrive//Documents//movies.csv\"\n",
    "movies_data=pd.read_csv(file_path)\n",
    "print(\"The shape of movies.csv is \",movies_data.shape)"
   ]
  },
  {
   "cell_type": "markdown",
   "id": "270c6bde",
   "metadata": {},
   "source": [
    "# What is the shape of \"ratings.csv\"?"
   ]
  },
  {
   "cell_type": "code",
   "execution_count": 4,
   "id": "227a42fc",
   "metadata": {},
   "outputs": [
    {
     "name": "stdout",
     "output_type": "stream",
     "text": [
      "The shape of ratings.csv is  (100836, 4)\n"
     ]
    }
   ],
   "source": [
    "file_path2=\"C://Users//varsh//OneDrive//Documents//ratings.csv\"\n",
    "ratings_data=pd.read_csv(file_path2)\n",
    "print(\"The shape of ratings.csv is \",ratings_data.shape)"
   ]
  },
  {
   "cell_type": "markdown",
   "id": "1e2a0db7",
   "metadata": {},
   "source": [
    "# How many unique \"userId\" are available in \"ratings.csv\"?"
   ]
  },
  {
   "cell_type": "code",
   "execution_count": 13,
   "id": "5c123399",
   "metadata": {},
   "outputs": [
    {
     "name": "stdout",
     "output_type": "stream",
     "text": [
      "610\n"
     ]
    }
   ],
   "source": [
    "unique_val=len(pd.unique(ratings_data['userId']))\n",
    "print(unique_val)"
   ]
  },
  {
   "cell_type": "markdown",
   "id": "c6fed569",
   "metadata": {},
   "source": [
    "# Which movie has recieved maximum number of user ratings?"
   ]
  },
  {
   "cell_type": "code",
   "execution_count": 36,
   "id": "ca49a6aa",
   "metadata": {},
   "outputs": [
    {
     "name": "stdout",
     "output_type": "stream",
     "text": [
      "The movie with the maximum number of user ratings is: Forrest Gump (1994)\n"
     ]
    }
   ],
   "source": [
    "merged_df = pd.merge(ratings_data, movies_data, on=\"movieId\")\n",
    "ratings_count = merged_df.groupby(\"title\").size()\n",
    "max_ratings_movie = ratings_count.idxmax()\n",
    "print(f\"The movie with the maximum number of user ratings is: {max_ratings_movie}\")"
   ]
  },
  {
   "cell_type": "markdown",
   "id": "60200141",
   "metadata": {},
   "source": [
    "# Select all the correct tags submitted by users to \"Matrix, The (1999)\" movie?"
   ]
  },
  {
   "cell_type": "code",
   "execution_count": 58,
   "id": "b6b84563",
   "metadata": {},
   "outputs": [
    {
     "name": "stdout",
     "output_type": "stream",
     "text": [
      "Tags for Matrix, The (1999):\n",
      "['martial arts', 'sci-fi', 'alternate universe', 'philosophy', 'post apocalyptic']\n"
     ]
    }
   ],
   "source": [
    "tags_data=pd.read_csv(\"C://Users//varsh//OneDrive//Documents//tags.csv\")\n",
    "matrix_movie_id = movies_data[movies_data[\"title\"] == \"Matrix, The (1999)\"][\"movieId\"].values[0]\n",
    "matrix_tags = tags_data[tags_data[\"movieId\"] == matrix_movie_id]\n",
    "print(\"Tags for Matrix, The (1999):\")\n",
    "print(matrix_tags[\"tag\"].tolist())"
   ]
  },
  {
   "cell_type": "markdown",
   "id": "77505559",
   "metadata": {},
   "source": [
    "# What is the average user rating for movie named \"Terminator 2: Judgment Day (1991)\"?\n"
   ]
  },
  {
   "cell_type": "code",
   "execution_count": 42,
   "id": "e209dec7",
   "metadata": {},
   "outputs": [
    {
     "name": "stdout",
     "output_type": "stream",
     "text": [
      "The average user rating for 'Terminator 2: Judgment Day (1991) is:  3.970982142857143\n"
     ]
    }
   ],
   "source": [
    "terminator_id = movies_data[(movies_data[\"title\"] == \"Terminator 2: Judgment Day (1991)\")][\"movieId\"].values[0]\n",
    "terminator_ratings = ratings_data[ratings_data[\"movieId\"] == terminator_id]\n",
    "average_rating = terminator_ratings[\"rating\"].mean()\n",
    "print(\"The average user rating for 'Terminator 2: Judgment Day (1991) is: \",average_rating )"
   ]
  },
  {
   "cell_type": "markdown",
   "id": "f68f9fa9",
   "metadata": {},
   "source": [
    "# How does the data distribution of user ratings for \"Fight Club (1999)\" movie looks like?"
   ]
  },
  {
   "cell_type": "code",
   "execution_count": 47,
   "id": "2b8cce06",
   "metadata": {},
   "outputs": [
    {
     "data": {
      "image/png": "[encoded data removed]",
      "text/plain": [
       "<Figure size 640x480 with 1 Axes>"
      ]
     },
     "metadata": {},
     "output_type": "display_data"
    }
   ],
   "source": [
    "import matplotlib.pyplot as plt\n",
    "fight_club_movie_id = movies_data[(movies_data[\"title\"] == \"Fight Club (1999)\")][\"movieId\"].values[0]\n",
    "fight_club_ratings = ratings_data[ratings_data[\"movieId\"] == fight_club_movie_id]\n",
    "plt.hist(fight_club_ratings[\"rating\"], bins=10, edgecolor=\"black\",color=\"red\")\n",
    "plt.title(\"User Ratings Distribution for Fight Club (1999)\")\n",
    "plt.xlabel(\"Rating\")\n",
    "plt.ylabel(\"Number of Users\")\n",
    "plt.show()"
   ]
  },
  {
   "cell_type": "markdown",
   "id": "5cb94b79",
   "metadata": {},
   "source": [
    "# Which movie is the most popular based on average user ratings?"
   ]
  },
  {
   "cell_type": "code",
   "execution_count": 48,
   "id": "3f3a5ac1",
   "metadata": {},
   "outputs": [
    {
     "name": "stdout",
     "output_type": "stream",
     "text": [
      "Most popular movie based on average user ratings:\n",
      "Shawshank Redemption, The (1994)\n"
     ]
    }
   ],
   "source": [
    "merged_df1 = pd.merge(movies_data, ratings_data, on='movieId')\n",
    "movies_to_compare = ['Godfather, The (1972)', 'Shawshank Redemption, The (1994)','Jumanji (1995)', 'Wolf of Wall Street, The (2013)']\n",
    "filtered_df = merged_df1[merged_df1['title'].isin(movies_to_compare)]\n",
    "average_ratings = filtered_df.groupby('title')['rating'].mean()\n",
    "sorted_ratings = average_ratings.sort_values(ascending=False)\n",
    "print(\"Most popular movie based on average user ratings:\")\n",
    "print(sorted_ratings.index[0])"
   ]
  },
  {
   "cell_type": "markdown",
   "id": "e61b1e14",
   "metadata": {},
   "source": [
    "# Select all the correct options which comes under top 5 popular movies based on number of user ratings."
   ]
  },
  {
   "cell_type": "code",
   "execution_count": 51,
   "id": "13414ba0",
   "metadata": {},
   "outputs": [
    {
     "name": "stdout",
     "output_type": "stream",
     "text": [
      "Top 5 popular movies based on number of user ratings:\n",
      "Index(['Forrest Gump (1994)', 'Shawshank Redemption, The (1994)',\n",
      "       'Pulp Fiction (1994)', 'Silence of the Lambs, The (1991)',\n",
      "       'Matrix, The (1999)'],\n",
      "      dtype='object', name='title')\n"
     ]
    }
   ],
   "source": [
    "merged_df = pd.merge(ratings_data, movies_data, on=\"movieId\")\n",
    "ratings_count = merged_df.groupby(\"title\")[\"rating\"].count()\n",
    "top_5_movies = ratings_count.nlargest(5).index\n",
    "print(\"Top 5 popular movies based on number of user ratings:\")\n",
    "print(top_5_movies)"
   ]
  },
  {
   "cell_type": "markdown",
   "id": "98b4f9f0",
   "metadata": {},
   "source": [
    "# Which Sci-Fi movie is \"third most popular\" based on the number of user ratings?"
   ]
  },
  {
   "cell_type": "code",
   "execution_count": 54,
   "id": "6a8f466d",
   "metadata": {},
   "outputs": [
    {
     "name": "stdout",
     "output_type": "stream",
     "text": [
      "Third most popular Sci-Fi movie based on user ratings: Jurassic Park (1993)\n"
     ]
    }
   ],
   "source": [
    "merged_df = pd.merge(movies_data, ratings_data, on='movieId')\n",
    "scifi_movies = merged_df[merged_df['genres'].str.contains('Sci-Fi')] \n",
    "rating_counts = scifi_movies.groupby('title')['rating'].count()\n",
    "sorted_rating_counts = rating_counts.sort_values(ascending=False)\n",
    "third_most_popular_scifi = sorted_rating_counts.index[2]\n",
    "print(\"Third most popular Sci-Fi movie based on user ratings:\", third_most_popular_scifi)"
   ]
  },
  {
   "cell_type": "markdown",
   "id": "fe4ceb9a",
   "metadata": {},
   "source": [
    "# Mention the movieId of the movie which has the highest IMDB rating."
   ]
  },
  {
   "cell_type": "code",
   "execution_count": 53,
   "id": "ac12e2aa",
   "metadata": {},
   "outputs": [
    {
     "name": "stdout",
     "output_type": "stream",
     "text": [
      "MovieId of the movie with the highest IMDB rating:\n",
      "1\n"
     ]
    }
   ],
   "source": [
    "merged_df = pd.merge(movies_data, ratings_data, on='movieId')\n",
    "movie_with_highest_rating = merged_df.loc[merged_df['rating'] == merged_df['rating'].max()]\n",
    "movieId_with_highest_rating = movie_with_highest_rating['movieId'].iloc[0]\n",
    "print(\"MovieId of the movie with the highest IMDB rating:\")\n",
    "print(movieId_with_highest_rating)"
   ]
  },
  {
   "cell_type": "markdown",
   "id": "cf67dca3",
   "metadata": {},
   "source": [
    "# Mention the movieId of the \"Sci-Fi\" movie which has the highest IMDB rating."
   ]
  },
  {
   "cell_type": "code",
   "execution_count": 55,
   "id": "cbe1fdb7",
   "metadata": {},
   "outputs": [
    {
     "name": "stdout",
     "output_type": "stream",
     "text": [
      "MovieId of the Sci-Fi movie with the highest IMDB rating: 24\n"
     ]
    }
   ],
   "source": [
    "merged_df = pd.merge(movies_data, ratings_data, on='movieId')\n",
    "scifi_movies = merged_df[merged_df['genres'].str.contains('Sci-Fi')]\n",
    "scifi_movie_with_highest_rating = scifi_movies.loc[scifi_movies['rating'] == scifi_movies['rating'].max()]\n",
    "scifi_movieId_with_highest_rating = scifi_movie_with_highest_rating['movieId'].iloc[0]\n",
    "print(\"MovieId of the Sci-Fi movie with the highest IMDB rating:\",scifi_movieId_with_highest_rating)"
   ]
  },
  {
   "cell_type": "code",
   "execution_count": null,
   "id": "c1e31982",
   "metadata": {},
   "outputs": [],
   "source": []
  }
 ],
 "metadata": {
  "kernelspec": {
   "display_name": "Python 3 (ipykernel)",
   "language": "python",
   "name": "python3"
  },
  "language_info": {
   "codemirror_mode": {
    "name": "ipython",
    "version": 3
   },
   "file_extension": ".py",
   "mimetype": "text/x-python",
   "name": "python",
   "nbconvert_exporter": "python",
   "pygments_lexer": "ipython3",
   "version": "3.11.5"
  }
 },
 "nbformat": 4,
 "nbformat_minor": 5
}
